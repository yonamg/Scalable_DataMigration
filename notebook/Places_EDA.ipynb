{
 "cells": [
  {
   "cell_type": "markdown",
   "metadata": {},
   "source": [
    "### Read the given dataset"
   ]
  },
  {
   "cell_type": "code",
   "execution_count": 2,
   "metadata": {},
   "outputs": [],
   "source": [
    "import pandas as pd \n",
    "import dvc.api"
   ]
  },
  {
   "cell_type": "code",
   "execution_count": 2,
   "metadata": {},
   "outputs": [],
   "source": [
    "# Get URL from DVC\n",
    "data_url = 'data/places.csv'\n",
    "repo = 'https://github.com/yonamg/Scalable-DataWarehouse'\n",
    "version = '807774e'"
   ]
  },
  {
   "cell_type": "code",
   "execution_count": null,
   "metadata": {},
   "outputs": [],
   "source": [
    "# Load train data from dvc using the dvc.api.Dataset class\n",
    "data = dvc.api.get_url(\n",
    "    path=data_url,\n",
    "    repo=repo,\n",
    "    rev=version\n",
    ")"
   ]
  },
  {
   "cell_type": "code",
   "execution_count": 5,
   "metadata": {},
   "outputs": [],
   "source": [
    "data = pd.read_csv('../data/places.csv')"
   ]
  },
  {
   "cell_type": "markdown",
   "metadata": {},
   "source": [
    "Information about the dataset"
   ]
  },
  {
   "cell_type": "code",
   "execution_count": 6,
   "metadata": {},
   "outputs": [
    {
     "data": {
      "text/html": [
       "<div>\n",
       "<style scoped>\n",
       "    .dataframe tbody tr th:only-of-type {\n",
       "        vertical-align: middle;\n",
       "    }\n",
       "\n",
       "    .dataframe tbody tr th {\n",
       "        vertical-align: top;\n",
       "    }\n",
       "\n",
       "    .dataframe thead th {\n",
       "        text-align: right;\n",
       "    }\n",
       "</style>\n",
       "<table border=\"1\" class=\"dataframe\">\n",
       "  <thead>\n",
       "    <tr style=\"text-align: right;\">\n",
       "      <th></th>\n",
       "      <th>track_id; type; traveled_d; avg_speed; lat; lon; speed; lon_acc; lat_acc; time</th>\n",
       "    </tr>\n",
       "  </thead>\n",
       "  <tbody>\n",
       "    <tr>\n",
       "      <th>0</th>\n",
       "      <td>1; Car; 7.45; 44.725335; 37.976091; 23.734299;...</td>\n",
       "    </tr>\n",
       "    <tr>\n",
       "      <th>1</th>\n",
       "      <td>2; Car; 9.97; 35.903873; 37.976158; 23.734259;...</td>\n",
       "    </tr>\n",
       "    <tr>\n",
       "      <th>2</th>\n",
       "      <td>3; Medium Vehicle; 37.76; 39.976287; 37.976381...</td>\n",
       "    </tr>\n",
       "    <tr>\n",
       "      <th>3</th>\n",
       "      <td>4; Car; 53.71; 3.465315; 37.976568; 23.734389;...</td>\n",
       "    </tr>\n",
       "    <tr>\n",
       "      <th>4</th>\n",
       "      <td>5; Medium Vehicle; 80.94; 5.317402; 37.976734;...</td>\n",
       "    </tr>\n",
       "  </tbody>\n",
       "</table>\n",
       "</div>"
      ],
      "text/plain": [
       "  track_id; type; traveled_d; avg_speed; lat; lon; speed; lon_acc; lat_acc; time\n",
       "0  1; Car; 7.45; 44.725335; 37.976091; 23.734299;...                            \n",
       "1  2; Car; 9.97; 35.903873; 37.976158; 23.734259;...                            \n",
       "2  3; Medium Vehicle; 37.76; 39.976287; 37.976381...                            \n",
       "3  4; Car; 53.71; 3.465315; 37.976568; 23.734389;...                            \n",
       "4  5; Medium Vehicle; 80.94; 5.317402; 37.976734;...                            "
      ]
     },
     "execution_count": 6,
     "metadata": {},
     "output_type": "execute_result"
    }
   ],
   "source": [
    "data.head()"
   ]
  },
  {
   "cell_type": "code",
   "execution_count": 3,
   "metadata": {},
   "outputs": [
    {
     "name": "stderr",
     "output_type": "stream",
     "text": [
      "C:\\Users\\Machine\\AppData\\Local\\Temp\\ipykernel_7192\\212926386.py:1: ParserWarning: Length of header or names does not match length of data. This leads to a loss of data with index_col=False.\n",
      "  data = pd.read_csv(\"../data/places.csv\", sep=\"[,;:]\", index_col=False, engine='python')\n"
     ]
    }
   ],
   "source": [
    "data = pd.read_csv(\"../data/places.csv\", sep=\"[,;:]\", index_col=False, engine='python')"
   ]
  },
  {
   "cell_type": "code",
   "execution_count": 4,
   "metadata": {},
   "outputs": [
    {
     "data": {
      "text/html": [
       "<div>\n",
       "<style scoped>\n",
       "    .dataframe tbody tr th:only-of-type {\n",
       "        vertical-align: middle;\n",
       "    }\n",
       "\n",
       "    .dataframe tbody tr th {\n",
       "        vertical-align: top;\n",
       "    }\n",
       "\n",
       "    .dataframe thead th {\n",
       "        text-align: right;\n",
       "    }\n",
       "</style>\n",
       "<table border=\"1\" class=\"dataframe\">\n",
       "  <thead>\n",
       "    <tr style=\"text-align: right;\">\n",
       "      <th></th>\n",
       "      <th>track_id</th>\n",
       "      <th>type</th>\n",
       "      <th>traveled_d</th>\n",
       "      <th>avg_speed</th>\n",
       "      <th>lat</th>\n",
       "      <th>lon</th>\n",
       "      <th>speed</th>\n",
       "      <th>lon_acc</th>\n",
       "      <th>lat_acc</th>\n",
       "      <th>time</th>\n",
       "    </tr>\n",
       "  </thead>\n",
       "  <tbody>\n",
       "    <tr>\n",
       "      <th>0</th>\n",
       "      <td>1</td>\n",
       "      <td>Car</td>\n",
       "      <td>7.45</td>\n",
       "      <td>44.725335</td>\n",
       "      <td>37.976091</td>\n",
       "      <td>23.734299</td>\n",
       "      <td>47.9200</td>\n",
       "      <td>0.0000</td>\n",
       "      <td>0.0000</td>\n",
       "      <td>0.0</td>\n",
       "    </tr>\n",
       "    <tr>\n",
       "      <th>1</th>\n",
       "      <td>2</td>\n",
       "      <td>Car</td>\n",
       "      <td>9.97</td>\n",
       "      <td>35.903873</td>\n",
       "      <td>37.976158</td>\n",
       "      <td>23.734259</td>\n",
       "      <td>37.4350</td>\n",
       "      <td>-0.0448</td>\n",
       "      <td>-0.2575</td>\n",
       "      <td>0.0</td>\n",
       "    </tr>\n",
       "    <tr>\n",
       "      <th>2</th>\n",
       "      <td>3</td>\n",
       "      <td>Medium Vehicle</td>\n",
       "      <td>37.76</td>\n",
       "      <td>39.976287</td>\n",
       "      <td>37.976381</td>\n",
       "      <td>23.734391</td>\n",
       "      <td>38.3701</td>\n",
       "      <td>-0.0229</td>\n",
       "      <td>0.2626</td>\n",
       "      <td>0.0</td>\n",
       "    </tr>\n",
       "    <tr>\n",
       "      <th>3</th>\n",
       "      <td>4</td>\n",
       "      <td>Car</td>\n",
       "      <td>53.71</td>\n",
       "      <td>3.465315</td>\n",
       "      <td>37.976568</td>\n",
       "      <td>23.734389</td>\n",
       "      <td>21.4110</td>\n",
       "      <td>0.0287</td>\n",
       "      <td>0.3069</td>\n",
       "      <td>0.0</td>\n",
       "    </tr>\n",
       "    <tr>\n",
       "      <th>4</th>\n",
       "      <td>5</td>\n",
       "      <td>Medium Vehicle</td>\n",
       "      <td>80.94</td>\n",
       "      <td>5.317402</td>\n",
       "      <td>37.976734</td>\n",
       "      <td>23.734325</td>\n",
       "      <td>32.8315</td>\n",
       "      <td>0.0502</td>\n",
       "      <td>0.4348</td>\n",
       "      <td>0.0</td>\n",
       "    </tr>\n",
       "  </tbody>\n",
       "</table>\n",
       "</div>"
      ],
      "text/plain": [
       "   track_id             type   traveled_d   avg_speed        lat        lon  \\\n",
       "0         1              Car         7.45   44.725335  37.976091  23.734299   \n",
       "1         2              Car         9.97   35.903873  37.976158  23.734259   \n",
       "2         3   Medium Vehicle        37.76   39.976287  37.976381  23.734391   \n",
       "3         4              Car        53.71    3.465315  37.976568  23.734389   \n",
       "4         5   Medium Vehicle        80.94    5.317402  37.976734  23.734325   \n",
       "\n",
       "     speed   lon_acc   lat_acc   time  \n",
       "0  47.9200    0.0000    0.0000    0.0  \n",
       "1  37.4350   -0.0448   -0.2575    0.0  \n",
       "2  38.3701   -0.0229    0.2626    0.0  \n",
       "3  21.4110    0.0287    0.3069    0.0  \n",
       "4  32.8315    0.0502    0.4348    0.0  "
      ]
     },
     "execution_count": 4,
     "metadata": {},
     "output_type": "execute_result"
    }
   ],
   "source": [
    "data.head()"
   ]
  },
  {
   "cell_type": "code",
   "execution_count": 5,
   "metadata": {},
   "outputs": [
    {
     "name": "stdout",
     "output_type": "stream",
     "text": [
      "<class 'pandas.core.frame.DataFrame'>\n",
      "RangeIndex: 2441 entries, 0 to 2440\n",
      "Data columns (total 10 columns):\n",
      " #   Column       Non-Null Count  Dtype  \n",
      "---  ------       --------------  -----  \n",
      " 0   track_id     2441 non-null   int64  \n",
      " 1    type        2441 non-null   object \n",
      " 2    traveled_d  2441 non-null   float64\n",
      " 3    avg_speed   2441 non-null   float64\n",
      " 4    lat         2441 non-null   float64\n",
      " 5    lon         2441 non-null   float64\n",
      " 6    speed       2441 non-null   float64\n",
      " 7    lon_acc     2441 non-null   float64\n",
      " 8    lat_acc     2441 non-null   float64\n",
      " 9    time        2441 non-null   float64\n",
      "dtypes: float64(8), int64(1), object(1)\n",
      "memory usage: 190.8+ KB\n"
     ]
    }
   ],
   "source": [
    "data.info()"
   ]
  },
  {
   "cell_type": "code",
   "execution_count": 6,
   "metadata": {},
   "outputs": [
    {
     "data": {
      "text/plain": [
       "Index(['track_id', ' type', ' traveled_d', ' avg_speed', ' lat', ' lon',\n",
       "       ' speed', ' lon_acc', ' lat_acc', ' time'],\n",
       "      dtype='object')"
      ]
     },
     "execution_count": 6,
     "metadata": {},
     "output_type": "execute_result"
    }
   ],
   "source": [
    "data.columns"
   ]
  },
  {
   "cell_type": "code",
   "execution_count": 7,
   "metadata": {},
   "outputs": [
    {
     "data": {
      "text/plain": [
       " Car               1137\n",
       " Motorcycle         724\n",
       " Taxi               380\n",
       " Medium Vehicle     115\n",
       " Bus                 63\n",
       " Heavy Vehicle       22\n",
       "Name:  type, dtype: int64"
      ]
     },
     "execution_count": 7,
     "metadata": {},
     "output_type": "execute_result"
    }
   ],
   "source": [
    "data[' type'].value_counts()"
   ]
  },
  {
   "cell_type": "markdown",
   "metadata": {},
   "source": [
    "Most of the vehicle types identified are of type car & Motorcycle"
   ]
  },
  {
   "cell_type": "markdown",
   "metadata": {},
   "source": [
    "\n",
    "### Save the sample dataset"
   ]
  },
  {
   "cell_type": "code",
   "execution_count": null,
   "metadata": {},
   "outputs": [],
   "source": [
    "data.to_csv(\"sample.csv\")"
   ]
  }
 ],
 "metadata": {
  "kernelspec": {
   "display_name": "Python 3.9.12 ('base')",
   "language": "python",
   "name": "python3"
  },
  "language_info": {
   "codemirror_mode": {
    "name": "ipython",
    "version": 3
   },
   "file_extension": ".py",
   "mimetype": "text/x-python",
   "name": "python",
   "nbconvert_exporter": "python",
   "pygments_lexer": "ipython3",
   "version": "3.9.12"
  },
  "orig_nbformat": 4,
  "vscode": {
   "interpreter": {
    "hash": "97a5d393b5c913facaaac29ce3e790b174913ab54f5c5158d95590b63a29edb8"
   }
  }
 },
 "nbformat": 4,
 "nbformat_minor": 2
}
